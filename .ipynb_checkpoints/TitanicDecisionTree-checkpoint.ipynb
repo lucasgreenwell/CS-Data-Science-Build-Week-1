{
 "cells": [
  {
   "cell_type": "code",
   "execution_count": 55,
   "metadata": {},
   "outputs": [],
   "source": [
    "import pandas as pd\n",
    "from sklearn.model_selection import train_test_split\n",
    "from sklearn.metrics import accuracy_score\n",
    "from Tree import build_decision_tree\n",
    "from sklearn.tree import DecisionTreeClassifier\n",
    "from sklearn.preprocessing import LabelEncoder"
   ]
  },
  {
   "cell_type": "code",
   "execution_count": 56,
   "metadata": {},
   "outputs": [],
   "source": [
    "titanic_data = pd.read_csv('titanic.csv')\n",
    "# print(titanic_data.head())"
   ]
  },
  {
   "cell_type": "code",
   "execution_count": 57,
   "metadata": {},
   "outputs": [],
   "source": [
    "#cleaning the training data bc good god is it dirty\n",
    "clean_titanic_data = titanic_data[['Passengerid','Age', 'Fare', 'Sex', 'sibsp', 'Pclass', 'Embarked', '2urvived']].copy()\n",
    "clean_titanic_data.rename(columns={'2urvived':'Survived'}, inplace = True)\n",
    "even_cleaner_titanic_data = clean_titanic_data.dropna()\n",
    "# print(clean_titanic_data.head())\n",
    "# clean_titanic_data.dropna()\n"
   ]
  },
  {
   "cell_type": "code",
   "execution_count": 58,
   "metadata": {},
   "outputs": [
    {
     "name": "stdout",
     "output_type": "stream",
     "text": [
      "      Passengerid   Age      Fare  Sex  sibsp  Pclass  Embarked  Survived\n",
      "1134         1135  28.0    7.8875    0      0       3       2.0         0\n",
      "639           640  28.0   16.1000    0      1       3       2.0         0\n",
      "229           230  28.0   25.4667    1      3       3       2.0         0\n",
      "793           794  28.0   30.6958    0      0       1       0.0         0\n",
      "708           709  22.0  151.5500    1      0       1       2.0         1\n"
     ]
    }
   ],
   "source": [
    "#splitting the data into two groups. The first is the training data with 80% of the data and the second is the test data for after the model is built with the remaining 20%\n",
    "training_data, testing_data = train_test_split(clean_titanic_data, train_size=.8, stratify=clean_titanic_data['Survived'], random_state=13)\n",
    "print(testing_data.head())"
   ]
  },
  {
   "cell_type": "code",
   "execution_count": 59,
   "metadata": {},
   "outputs": [],
   "source": [
    "from sklearn.tree import DecisionTreeClassifier\n",
    "from sklearn.preprocessing import LabelEncoder"
   ]
  },
  {
   "cell_type": "code",
   "execution_count": 60,
   "metadata": {},
   "outputs": [],
   "source": [
    "train, test = train_test_split(even_cleaner_titanic_data, train_size=.8,stratify=even_cleaner_titanic_data['Survived'], random_state=13)\n",
    "y_test = test['Survived'].copy()\n",
    "X_test = test.drop('Survived', axis=1)\n",
    "y_train = train['Survived'].copy()\n",
    "X_train = train.drop('Survived', axis=1)"
   ]
  },
  {
   "cell_type": "code",
   "execution_count": 62,
   "metadata": {},
   "outputs": [
    {
     "data": {
      "text/plain": [
       "DecisionTreeClassifier()"
      ]
     },
     "execution_count": 62,
     "metadata": {},
     "output_type": "execute_result"
    }
   ],
   "source": [
    "sklearn_decision_tree = DecisionTreeClassifier()\n",
    "\n",
    "sklearn_decision_tree.fit(X_train, y_train)\n",
    "# print(X_train)"
   ]
  },
  {
   "cell_type": "code",
   "execution_count": 64,
   "metadata": {},
   "outputs": [
    {
     "data": {
      "text/plain": [
       "0.8282442748091603"
      ]
     },
     "execution_count": 64,
     "metadata": {},
     "output_type": "execute_result"
    }
   ],
   "source": [
    "sklearn_decision_tree_predictions = sklearn_decision_tree.predict(X_test)\n",
    "accuracy_score(y_test, sklearn_decision_tree_predictions)"
   ]
  },
  {
   "cell_type": "code",
   "execution_count": null,
   "metadata": {},
   "outputs": [],
   "source": []
  }
 ],
 "metadata": {
  "kernelspec": {
   "display_name": "Python 3",
   "language": "python",
   "name": "python3"
  },
  "language_info": {
   "codemirror_mode": {
    "name": "ipython",
    "version": 3
   },
   "file_extension": ".py",
   "mimetype": "text/x-python",
   "name": "python",
   "nbconvert_exporter": "python",
   "pygments_lexer": "ipython3",
   "version": "3.7.7"
  }
 },
 "nbformat": 4,
 "nbformat_minor": 4
}
