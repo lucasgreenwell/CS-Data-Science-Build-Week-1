{
 "cells": [
  {
   "cell_type": "code",
   "execution_count": 2,
   "metadata": {},
   "outputs": [],
   "source": [
    "import pandas as pd\n",
    "from sklearn.model_selection import train_test_split\n",
    "from sklearn.metrics import accuracy_score\n",
    "from Tree import build_decision_tree\n",
    "from sklearn.tree import DecisionTreeClassifier\n",
    "from sklearn.preprocessing import LabelEncoder"
   ]
  },
  {
   "cell_type": "code",
   "execution_count": 3,
   "metadata": {},
   "outputs": [],
   "source": [
    "titanic_data = pd.read_csv('titanic.csv')\n",
    "# print(titanic_data.head())"
   ]
  },
  {
   "cell_type": "code",
   "execution_count": 4,
   "metadata": {},
   "outputs": [],
   "source": [
    "#cleaning the training data bc good god is it dirty\n",
    "#first we pull out all the columns that are actually relevant. \n",
    "#then we change the name of the column \"2urvived\" to something more appropriate\n",
    "#then we drop any of the rows that have NaN or None attributes\n",
    "clean_titanic_data = titanic_data[['Passengerid','Age', 'Fare', 'Sex', 'sibsp', 'Pclass', 'Embarked', '2urvived']].copy()\n",
    "clean_titanic_data.rename(columns={'2urvived':'Survived'}, inplace = True)\n",
    "even_cleaner_titanic_data = clean_titanic_data.dropna()\n",
    "# print(clean_titanic_data.head())\n",
    "# clean_titanic_data.dropna()\n"
   ]
  },
  {
   "cell_type": "code",
   "execution_count": 5,
   "metadata": {},
   "outputs": [
    {
     "name": "stdout",
     "output_type": "stream",
     "text": [
      "      Passengerid   Age      Fare  Sex  sibsp  Pclass  Embarked  Survived\n",
      "1134         1135  28.0    7.8875    0      0       3       2.0         0\n",
      "639           640  28.0   16.1000    0      1       3       2.0         0\n",
      "229           230  28.0   25.4667    1      3       3       2.0         0\n",
      "793           794  28.0   30.6958    0      0       1       0.0         0\n",
      "708           709  22.0  151.5500    1      0       1       2.0         1      Passengerid   Age     Fare  Sex  sibsp  Pclass  Embarked  Survived\n",
      "22            23  15.0   8.0292    1      0       3       1.0         1\n",
      "727          728  28.0   7.7375    1      0       3       1.0         1\n",
      "205          206   2.0  10.4625    1      0       3       2.0         0\n",
      "633          634  28.0   0.0000    0      0       1       2.0         0\n",
      "655          656  24.0  73.5000    0      2       2       2.0         0\n"
     ]
    }
   ],
   "source": [
    "#splitting the data into two groups. \n",
    "#The first is the training data with 80% of the data and the second is the test data for after the model is built with the remaining 20%\n",
    "training_data, testing_data = train_test_split(clean_titanic_data, train_size=.8, stratify=clean_titanic_data['Survived'], random_state=13)\n",
    "print(testing_data.head(), training_data.head())"
   ]
  },
  {
   "cell_type": "code",
   "execution_count": 6,
   "metadata": {},
   "outputs": [],
   "source": [
    "from sklearn.tree import DecisionTreeClassifier\n",
    "from sklearn.preprocessing import LabelEncoder"
   ]
  },
  {
   "cell_type": "code",
   "execution_count": 7,
   "metadata": {},
   "outputs": [],
   "source": [
    "#setting up the training and testing data\n",
    "#ytrain and ytest are the prediction columns from the training and testing data repesctively\n",
    "#xtrain and xtest are dataframes of all of the columns exceot the prediction column from the training and testing date respectively\n",
    "\n",
    "train, test = train_test_split(even_cleaner_titanic_data, train_size=.8,stratify=even_cleaner_titanic_data['Survived'], random_state=13)\n",
    "y_test = test['Survived'].copy()\n",
    "X_test = test.drop('Survived', axis=1)\n",
    "y_train = train['Survived'].copy()\n",
    "X_train = train.drop('Survived', axis=1)"
   ]
  },
  {
   "cell_type": "code",
   "execution_count": 8,
   "metadata": {},
   "outputs": [
    {
     "data": {
      "text/plain": [
       "DecisionTreeClassifier()"
      ]
     },
     "execution_count": 8,
     "metadata": {},
     "output_type": "execute_result"
    }
   ],
   "source": [
    "#setting up a new decision tree and training it with the training data\n",
    "\n",
    "sklearn_decision_tree = DecisionTreeClassifier()\n",
    "\n",
    "sklearn_decision_tree.fit(X_train, y_train)\n",
    "# print(X_train)"
   ]
  },
  {
   "cell_type": "code",
   "execution_count": 11,
   "metadata": {},
   "outputs": [
    {
     "name": "stdout",
     "output_type": "stream",
     "text": [
      "   Passengerid   Age     Fare  Sex  sibsp  Pclass  Embarked  Survived\n",
      "0            1  22.0   7.2500    0      1       3       2.0         0\n",
      "1            2  38.0  71.2833    1      1       1       0.0         1\n",
      "2            3  26.0   7.9250    1      0       3       2.0         1\n",
      "3            4  35.0  53.1000    1      1       1       2.0         1\n",
      "4            5  35.0   8.0500    0      0       3       2.0         0\n"
     ]
    }
   ],
   "source": [
    "#running the test data and saving the predictions\n",
    "#then we check how our model did by comparing our predictions to the correct answers\n",
    "sklearn_decision_tree_predictions = sklearn_decision_tree.predict(X_test)\n",
    "sklearn_accuracy = accuracy_score(y_test, sklearn_decision_tree_predictions)\n",
    "print(even_cleaner_titanic_data.head())"
   ]
  },
  {
   "cell_type": "code",
   "execution_count": 64,
   "metadata": {},
   "outputs": [
    {
     "ename": "AttributeError",
     "evalue": "'list' object has no attribute 'columns'",
     "output_type": "error",
     "traceback": [
      "\u001b[0;31m---------------------------------------------------------------------------\u001b[0m",
      "\u001b[0;31mAttributeError\u001b[0m                            Traceback (most recent call last)",
      "\u001b[0;32m<ipython-input-64-3c45fb2814cb>\u001b[0m in \u001b[0;36m<module>\u001b[0;34m\u001b[0m\n\u001b[1;32m     12\u001b[0m     \u001b[0mres\u001b[0m\u001b[0;34m.\u001b[0m\u001b[0mappend\u001b[0m\u001b[0;34m(\u001b[0m\u001b[0mres_child\u001b[0m\u001b[0;34m)\u001b[0m\u001b[0;34m\u001b[0m\u001b[0;34m\u001b[0m\u001b[0m\n\u001b[1;32m     13\u001b[0m \u001b[0;31m# print(list(even_cleaner_titanic_data))\u001b[0m\u001b[0;34m\u001b[0m\u001b[0;34m\u001b[0m\u001b[0;34m\u001b[0m\u001b[0m\n\u001b[0;32m---> 14\u001b[0;31m \u001b[0mbuild_decision_tree\u001b[0m\u001b[0;34m(\u001b[0m\u001b[0mres\u001b[0m\u001b[0;34m,\u001b[0m \u001b[0;36m4\u001b[0m\u001b[0;34m,\u001b[0m \u001b[0;36m1\u001b[0m\u001b[0;34m)\u001b[0m\u001b[0;34m\u001b[0m\u001b[0;34m\u001b[0m\u001b[0m\n\u001b[0m\u001b[1;32m     15\u001b[0m \u001b[0;34m\u001b[0m\u001b[0m\n\u001b[1;32m     16\u001b[0m \u001b[0;34m\u001b[0m\u001b[0m\n",
      "\u001b[0;32m~/Projects/lambda/compsci/CS-Data-Science-Build-Week-1/Tree.py\u001b[0m in \u001b[0;36mbuild_decision_tree\u001b[0;34m(training_data, maximum_depth, minimum_size)\u001b[0m\n\u001b[1;32m    116\u001b[0m \u001b[0;31m#takes in three parameters, the dataset, the maximum depth, and the minimum number of samples for a branch to split on\u001b[0m\u001b[0;34m\u001b[0m\u001b[0;34m\u001b[0m\u001b[0;34m\u001b[0m\u001b[0m\n\u001b[1;32m    117\u001b[0m \u001b[0;32mdef\u001b[0m \u001b[0mbuild_decision_tree\u001b[0m\u001b[0;34m(\u001b[0m\u001b[0mtraining_data\u001b[0m\u001b[0;34m,\u001b[0m \u001b[0mmaximum_depth\u001b[0m\u001b[0;34m,\u001b[0m \u001b[0mminimum_size\u001b[0m\u001b[0;34m)\u001b[0m\u001b[0;34m:\u001b[0m\u001b[0;34m\u001b[0m\u001b[0;34m\u001b[0m\u001b[0m\n\u001b[0;32m--> 118\u001b[0;31m         \u001b[0mroot_node\u001b[0m \u001b[0;34m=\u001b[0m \u001b[0mget_the_best_split\u001b[0m\u001b[0;34m(\u001b[0m\u001b[0mtraining_data\u001b[0m\u001b[0;34m)\u001b[0m\u001b[0;34m\u001b[0m\u001b[0;34m\u001b[0m\u001b[0m\n\u001b[0m\u001b[1;32m    119\u001b[0m         \u001b[0msplit\u001b[0m\u001b[0;34m(\u001b[0m\u001b[0mroot_node\u001b[0m\u001b[0;34m,\u001b[0m \u001b[0mmaximum_depth\u001b[0m\u001b[0;34m,\u001b[0m \u001b[0mminimum_size\u001b[0m\u001b[0;34m,\u001b[0m \u001b[0;36m1\u001b[0m\u001b[0;34m)\u001b[0m\u001b[0;34m\u001b[0m\u001b[0;34m\u001b[0m\u001b[0m\n\u001b[1;32m    120\u001b[0m         \u001b[0;32mreturn\u001b[0m \u001b[0mroot_node\u001b[0m\u001b[0;34m\u001b[0m\u001b[0;34m\u001b[0m\u001b[0m\n",
      "\u001b[0;32m~/Projects/lambda/compsci/CS-Data-Science-Build-Week-1/Tree.py\u001b[0m in \u001b[0;36mget_the_best_split\u001b[0;34m(dataset)\u001b[0m\n\u001b[1;32m     60\u001b[0m         \u001b[0mprediction_column_values\u001b[0m \u001b[0;34m=\u001b[0m \u001b[0mlist\u001b[0m\u001b[0;34m(\u001b[0m\u001b[0mset\u001b[0m\u001b[0;34m(\u001b[0m\u001b[0mrow\u001b[0m\u001b[0;34m[\u001b[0m\u001b[0;34m-\u001b[0m\u001b[0;36m1\u001b[0m\u001b[0;34m]\u001b[0m \u001b[0;32mfor\u001b[0m \u001b[0mrow\u001b[0m \u001b[0;32min\u001b[0m \u001b[0mdataset\u001b[0m\u001b[0;34m)\u001b[0m\u001b[0;34m)\u001b[0m\u001b[0;34m\u001b[0m\u001b[0;34m\u001b[0m\u001b[0m\n\u001b[1;32m     61\u001b[0m         \u001b[0mres_index\u001b[0m\u001b[0;34m,\u001b[0m \u001b[0mres_value\u001b[0m\u001b[0;34m,\u001b[0m \u001b[0mres_gini\u001b[0m\u001b[0;34m,\u001b[0m \u001b[0mres_groups\u001b[0m \u001b[0;34m=\u001b[0m \u001b[0;36m999\u001b[0m\u001b[0;34m,\u001b[0m \u001b[0;36m999\u001b[0m\u001b[0;34m,\u001b[0m \u001b[0;36m999\u001b[0m\u001b[0;34m,\u001b[0m \u001b[0;32mNone\u001b[0m\u001b[0;34m\u001b[0m\u001b[0;34m\u001b[0m\u001b[0m\n\u001b[0;32m---> 62\u001b[0;31m         \u001b[0;32mfor\u001b[0m \u001b[0mcolumn_index\u001b[0m \u001b[0;32min\u001b[0m \u001b[0mrange\u001b[0m\u001b[0;34m(\u001b[0m\u001b[0mlen\u001b[0m\u001b[0;34m(\u001b[0m\u001b[0mdataset\u001b[0m\u001b[0;34m.\u001b[0m\u001b[0mcolumns\u001b[0m\u001b[0;34m)\u001b[0m\u001b[0;34m)\u001b[0m\u001b[0;34m:\u001b[0m\u001b[0;34m\u001b[0m\u001b[0;34m\u001b[0m\u001b[0m\n\u001b[0m\u001b[1;32m     63\u001b[0m                 \u001b[0;32mfor\u001b[0m \u001b[0mrow\u001b[0m \u001b[0;32min\u001b[0m \u001b[0mdataset\u001b[0m\u001b[0;34m:\u001b[0m\u001b[0;34m\u001b[0m\u001b[0;34m\u001b[0m\u001b[0m\n\u001b[1;32m     64\u001b[0m                         \u001b[0mgroups\u001b[0m \u001b[0;34m=\u001b[0m \u001b[0msplit_tree_in_two\u001b[0m\u001b[0;34m(\u001b[0m\u001b[0mcolumn_index\u001b[0m\u001b[0;34m,\u001b[0m \u001b[0mrow\u001b[0m\u001b[0;34m[\u001b[0m\u001b[0mcolumn_index\u001b[0m\u001b[0;34m]\u001b[0m\u001b[0;34m,\u001b[0m \u001b[0mdataset\u001b[0m\u001b[0;34m)\u001b[0m\u001b[0;34m\u001b[0m\u001b[0;34m\u001b[0m\u001b[0m\n",
      "\u001b[0;31mAttributeError\u001b[0m: 'list' object has no attribute 'columns'"
     ]
    }
   ],
   "source": [
    "# res dad_array\n",
    "# loop through the dataframe's rows\n",
    "#     res child_arr\n",
    "#     loop through all the columns\n",
    "#         push value to child\n",
    "#     #child child to dad\n",
    "res = list()\n",
    "for index, row in even_cleaner_titanic_data.iterrows():\n",
    "    res_child = list()\n",
    "    for column_index in range(len(even_cleaner_titanic_data.columns)):\n",
    "        res_child.append(row[column_index])\n",
    "    res.append(res_child)\n",
    "# print(list(even_cleaner_titanic_data))\n",
    "build_decision_tree(res, 4, 1)\n",
    "\n",
    "\n",
    "\n"
   ]
  },
  {
   "cell_type": "code",
   "execution_count": 61,
   "metadata": {},
   "outputs": [
    {
     "name": "stdout",
     "output_type": "stream",
     "text": [
      "1307\n"
     ]
    }
   ],
   "source": [
    "print(len(even_cleaner_titanic_data))\n"
   ]
  },
  {
   "cell_type": "code",
   "execution_count": null,
   "metadata": {},
   "outputs": [],
   "source": []
  },
  {
   "cell_type": "code",
   "execution_count": null,
   "metadata": {},
   "outputs": [],
   "source": []
  },
  {
   "cell_type": "code",
   "execution_count": null,
   "metadata": {},
   "outputs": [],
   "source": []
  }
 ],
 "metadata": {
  "kernelspec": {
   "display_name": "Python 3",
   "language": "python",
   "name": "python3"
  },
  "language_info": {
   "codemirror_mode": {
    "name": "ipython",
    "version": 3
   },
   "file_extension": ".py",
   "mimetype": "text/x-python",
   "name": "python",
   "nbconvert_exporter": "python",
   "pygments_lexer": "ipython3",
   "version": "3.7.7"
  }
 },
 "nbformat": 4,
 "nbformat_minor": 4
}
